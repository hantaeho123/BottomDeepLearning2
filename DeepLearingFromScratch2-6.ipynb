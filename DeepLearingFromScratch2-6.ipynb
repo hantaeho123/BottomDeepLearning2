{
 "cells": [
  {
   "cell_type": "markdown",
   "id": "167397db-8f6d-4291-ae56-c68b6e8e35fd",
   "metadata": {},
   "source": [
    "# 6. 게이트가 추가된 RNN"
   ]
  },
  {
   "cell_type": "code",
   "execution_count": null,
   "id": "c4264d57-e1a9-4df3-a024-20617ddf2bd8",
   "metadata": {},
   "outputs": [],
   "source": []
  }
 ],
 "metadata": {
  "kernelspec": {
   "display_name": "Python 3 (ipykernel)",
   "language": "python",
   "name": "python3"
  },
  "language_info": {
   "codemirror_mode": {
    "name": "ipython",
    "version": 3
   },
   "file_extension": ".py",
   "mimetype": "text/x-python",
   "name": "python",
   "nbconvert_exporter": "python",
   "pygments_lexer": "ipython3",
   "version": "3.9.18"
  },
  "widgets": {
   "application/vnd.jupyter.widget-state+json": {
    "state": {},
    "version_major": 2,
    "version_minor": 0
   }
  }
 },
 "nbformat": 4,
 "nbformat_minor": 5
}
