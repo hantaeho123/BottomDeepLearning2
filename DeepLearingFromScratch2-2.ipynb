{
 "cells": [
  {
   "cell_type": "markdown",
   "id": "487f4da7-d636-4288-833a-eaf566d805a9",
   "metadata": {},
   "source": [
    "# 2. 자연어와 단어의 분산표현"
   ]
  },
  {
   "cell_type": "code",
   "execution_count": null,
   "id": "3c252278-c4f9-4977-97f4-d8a431d20baa",
   "metadata": {},
   "outputs": [],
   "source": []
  },
  {
   "cell_type": "code",
   "execution_count": 1,
   "id": "07bc870d-715c-405b-9035-ea80c6c0afd2",
   "metadata": {},
   "outputs": [],
   "source": [
    "import numpy as np"
   ]
  },
  {
   "cell_type": "code",
   "execution_count": 2,
   "id": "d98c1a73-7561-446e-857e-040248c73e2b",
   "metadata": {},
   "outputs": [],
   "source": [
    "import matplotlib.pyplot as plt"
   ]
  },
  {
   "cell_type": "markdown",
   "id": "2d773cbb-5fdd-4e33-b306-99d520757ffa",
   "metadata": {},
   "source": [
    "## 2.3.1 파이썬으로 말뭉치 전처리하기"
   ]
  },
  {
   "cell_type": "code",
   "execution_count": 3,
   "id": "20aa0bc5-8cc3-4b48-8d6d-f04f808c4547",
   "metadata": {},
   "outputs": [],
   "source": [
    "# 말뭉치 예시 문장\n",
    "text = 'You say goodby and I say hello.'"
   ]
  },
  {
   "cell_type": "code",
   "execution_count": 4,
   "id": "74c5261a-5a43-4e36-b120-55dad0290e5a",
   "metadata": {},
   "outputs": [
    {
     "name": "stdout",
     "output_type": "stream",
     "text": [
      "you say goodby and i say hello .\n",
      "['you', 'say', 'goodby', 'and', 'i', 'say', 'hello', '.']\n"
     ]
    }
   ],
   "source": [
    "# text를 단어 단위로 분할하기\n",
    "text = text.lower()\n",
    "text = text.replace('.', ' .')\n",
    "print(text)\n",
    "\n",
    "words = text.split(' ')\n",
    "print(words)"
   ]
  },
  {
   "cell_type": "code",
   "execution_count": 5,
   "id": "caee17af-242b-4d1d-98a1-f319ea6060fb",
   "metadata": {},
   "outputs": [
    {
     "name": "stdout",
     "output_type": "stream",
     "text": [
      "{0: 'you', 1: 'say', 2: 'goodby', 3: 'and', 4: 'i', 5: 'hello', 6: '.'}\n",
      "---------------------------------------------------------------------------\n",
      "{'you': 0, 'say': 1, 'goodby': 2, 'and': 3, 'i': 4, 'hello': 5, '.': 6}\n",
      "---------------------------------------------------------------------------\n",
      "say\n",
      "5\n"
     ]
    }
   ],
   "source": [
    "# dic으로 단어에 ID를 부여하기\n",
    "word_to_id = {}\n",
    "id_to_word = {}\n",
    "\n",
    "for word in words :\n",
    "    if word not in word_to_id :\n",
    "        new_id = len(word_to_id)\n",
    "        word_to_id[word] = new_id\n",
    "        id_to_word[new_id] = word\n",
    "\n",
    "print(id_to_word)\n",
    "print(\"---------------------------------------------------------------------------\")\n",
    "print(word_to_id)\n",
    "print(\"---------------------------------------------------------------------------\")\n",
    "print(id_to_word[1])\n",
    "print(word_to_id['hello'])"
   ]
  },
  {
   "cell_type": "code",
   "execution_count": 6,
   "id": "aa4baba0-3edf-40e4-a32c-c9a3d005245f",
   "metadata": {},
   "outputs": [
    {
     "data": {
      "text/plain": [
       "array([0, 1, 2, 3, 4, 1, 5, 6])"
      ]
     },
     "execution_count": 6,
     "metadata": {},
     "output_type": "execute_result"
    }
   ],
   "source": [
    "# 단어목록에서  단어 ID목록으로 변경\n",
    "corpus = [word_to_id[w] for w in words]\n",
    "corpus = np.array(corpus)\n",
    "corpus"
   ]
  },
  {
   "cell_type": "code",
   "execution_count": 7,
   "id": "cee56646-5bab-4e6c-967f-57e0ca5cd51d",
   "metadata": {},
   "outputs": [],
   "source": [
    "# 말뭉치 전처리 함수 구현\n",
    "def preprocess(text) :\n",
    "    text = text.lower()\n",
    "    text = text.replace('.', ' .')\n",
    "    words = text.split(' ')\n",
    "\n",
    "    word_to_id = {}\n",
    "    id_to_word = {}\n",
    "    for word in words :\n",
    "        if word not in word_to_id :\n",
    "            new_id = len(word_to_id)\n",
    "            word_to_id[word] = new_id\n",
    "            id_to_word[new_id] = word\n",
    "    #단어 ID목록\n",
    "    corpus = np.array([word_to_id[w] for w in words])\n",
    "\n",
    "    return corpus, word_to_id, id_to_word"
   ]
  },
  {
   "cell_type": "code",
   "execution_count": 8,
   "id": "10387956-1b57-46bb-b694-69d4a899a9ca",
   "metadata": {},
   "outputs": [
    {
     "name": "stdout",
     "output_type": "stream",
     "text": [
      "[0 1 2 3 4 0 5 6]\n",
      "{'the': 0, 'record': 1, 'shows': 2, 'i': 3, 'took': 4, 'blows': 5, '.': 6}\n",
      "{0: 'the', 1: 'record', 2: 'shows', 3: 'i', 4: 'took', 5: 'blows', 6: '.'}\n"
     ]
    }
   ],
   "source": [
    "# 전처리 예시\n",
    "text = \"The record shows I took the blows.\"\n",
    "corpus, word_to_id, id_to_word = preprocess(text)\n",
    "print(corpus, word_to_id, id_to_word, sep = \"\\n\")"
   ]
  },
  {
   "cell_type": "code",
   "execution_count": null,
   "id": "cb63b505-36d6-4442-8c2c-e03e3b4ba3b7",
   "metadata": {},
   "outputs": [],
   "source": []
  },
  {
   "cell_type": "markdown",
   "id": "a3180077-06c7-4505-934d-78356ec69955",
   "metadata": {},
   "source": [
    "## 2.3.4 동시발생 행렬"
   ]
  },
  {
   "cell_type": "code",
   "execution_count": 9,
   "id": "740e9f22-bbff-4b06-aeb2-9fde2795d1eb",
   "metadata": {},
   "outputs": [
    {
     "name": "stdout",
     "output_type": "stream",
     "text": [
      "[0 1 2 3 4 1 5 6]\n",
      "{0: 'you', 1: 'say', 2: 'goodbye', 3: 'and', 4: 'i', 5: 'hello', 6: '.'}\n"
     ]
    }
   ],
   "source": [
    "text = 'You say goodbye and I say hello.'\n",
    "corpus, word_to_id, id_to_word = preprocess(text)\n",
    "\n",
    "print(corpus)\n",
    "\n",
    "print(id_to_word)"
   ]
  },
  {
   "cell_type": "code",
   "execution_count": 10,
   "id": "f361b27b-d4fa-43c7-b6bc-1fa1a9e26a42",
   "metadata": {},
   "outputs": [],
   "source": [
    "# 동시발생행렬\n",
    "C = np.array([\n",
    "    [0,1,0,0,0,0,0],\n",
    "    [1,0,1,0,1,1,0],\n",
    "    [0,1,0,1,0,0,0],\n",
    "    [0,0,1,0,1,0,0],\n",
    "    [0,1,0,1,0,0,0],\n",
    "    [0,1,0,0,0,0,1],\n",
    "    [0,0,0,0,0,1,0]\n",
    "])"
   ]
  },
  {
   "cell_type": "code",
   "execution_count": 11,
   "id": "7cfd456f-a62c-427e-ae81-3df7f0aa5f94",
   "metadata": {},
   "outputs": [
    {
     "name": "stdout",
     "output_type": "stream",
     "text": [
      "ID가 0인 단어 벡터: [0 1 0 0 0 0 0]\n",
      "ID가 1인 단어 벡터: [1 0 1 0 1 1 0]\n",
      "ID가 2인 단어 벡터: [0 1 0 1 0 0 0]\n",
      "ID가 3인 단어 벡터: [0 0 1 0 1 0 0]\n",
      "ID가 4인 단어 벡터: [0 1 0 1 0 0 0]\n",
      "ID가 5인 단어 벡터: [0 1 0 0 0 0 1]\n",
      "ID가 6인 단어 벡터: [0 0 0 0 0 1 0]\n",
      "\n",
      "'goodbye'의 단어벡터:  [0 1 0 1 0 0 0]\n"
     ]
    }
   ],
   "source": [
    "# 단어 벡터 표현하기\n",
    "for i in range(len(C)) :\n",
    "    print(f\"ID가 {i}인 단어 벡터: {C[i]}\")\n",
    "print()\n",
    "\n",
    "# \"goodbye\"의 벡터 표현\n",
    "print(\"\\'goodbye\\'의 단어벡터: \",C[word_to_id['goodbye']])"
   ]
  },
  {
   "cell_type": "code",
   "execution_count": 12,
   "id": "7e951233-eef5-40bf-86b5-6a77b1c627cc",
   "metadata": {},
   "outputs": [],
   "source": [
    "# 동시발생행렬 함수\n",
    "def create_co_matrix(corpus, vocab_size, window_size=1) :\n",
    "    corpus_size = len(corpus)\n",
    "    co_matrix = np.zeros((vocab_size, vocab_size), dtype = np.int32)\n",
    "\n",
    "    for idx, word_id in enumerate(corpus) :\n",
    "        for i in range(1, window_size + 1) :\n",
    "            left_idx = idx - i\n",
    "            right_idx = idx + i\n",
    "\n",
    "            if (left_idx >= 0) :\n",
    "                left_word_id = corpus[left_idx]\n",
    "                co_matrix[word_id, left_word_id] += 1\n",
    "\n",
    "            if (right_idx < corpus_size) :\n",
    "                right_word_id = corpus[right_idx]\n",
    "                co_matrix[word_id, right_word_id] += 1\n",
    "\n",
    "    return co_matrix \n"
   ]
  },
  {
   "cell_type": "markdown",
   "id": "035f462c-bb96-4431-8f89-f4d751a3d811",
   "metadata": {},
   "source": [
    "## 2.3.5 벡터 간 유사도"
   ]
  },
  {
   "cell_type": "code",
   "execution_count": 13,
   "id": "454d21b6-24cd-4eb8-82ff-2b3a3f297b98",
   "metadata": {},
   "outputs": [],
   "source": [
    "# 코사인 유사도 구현\n",
    "def cos_similarity(x, y, eps=1e-8) :\n",
    "    nx = x / np.sqrt(np.sum(x**2) + eps)\n",
    "    ny = y / np.sqrt(np.sum(y**2) + eps)\n",
    "    return np.dot(nx, ny)"
   ]
  },
  {
   "cell_type": "code",
   "execution_count": null,
   "id": "80d21f84-45cc-439b-aba6-b4c138c71467",
   "metadata": {},
   "outputs": [],
   "source": []
  },
  {
   "cell_type": "code",
   "execution_count": 14,
   "id": "c9dfc5e4-b2c3-4e96-9254-5b32993409e6",
   "metadata": {},
   "outputs": [
    {
     "name": "stdout",
     "output_type": "stream",
     "text": [
      "c0: [0 1 0 0 0 0 0] \n",
      "c1: [0 1 0 1 0 0 0]\n",
      "0.7071067758832467\n"
     ]
    }
   ],
   "source": [
    "# you와 I의 유사도 구하는 코드 예시\n",
    "\n",
    "text = 'You say goodbye and I say hello.'\n",
    "corpus, word_to_id, id_to_word = preprocess(text)\n",
    "vocab_size = len(word_to_id)\n",
    "C = create_co_matrix(corpus, vocab_size)\n",
    "\n",
    "c0 = C[word_to_id['you']] # 'you'의 벡터\n",
    "c1 = C[word_to_id['i']]   #'i'의 벡터\n",
    "\n",
    "print(f\"c0: {c0} \\nc1: {c1}\")\n",
    "print(cos_similarity(c0, c1))"
   ]
  },
  {
   "cell_type": "code",
   "execution_count": null,
   "id": "243fa23d-9cb1-4e61-bcfe-ef9a0bbf4357",
   "metadata": {},
   "outputs": [],
   "source": []
  },
  {
   "cell_type": "markdown",
   "id": "a25ae0b4-ee63-445b-9c76-7b0ffa16ed14",
   "metadata": {},
   "source": [
    "## 2.3.6 유사 단어의 랭킹 표시"
   ]
  },
  {
   "cell_type": "code",
   "execution_count": 15,
   "id": "d7477636-dcef-4286-aba5-f28f23987706",
   "metadata": {},
   "outputs": [],
   "source": [
    "# 유사 단어 랭킹 표시 함수 구현\n",
    "def most_similar(query, word_to_id, id_to_word, word_matrix, top = 5) :\n",
    "    # 1. 검색어를 꺼낸다.\n",
    "    if query not in word_to_id :\n",
    "        print(f\"{query}(을)를 찾을 수 없습니다.\")\n",
    "        return\n",
    "\n",
    "    print(\"\\n[query] \" + query)\n",
    "    query_id = word_to_id[query]\n",
    "    query_vec = word_matrix[query_id]\n",
    "\n",
    "    # 2. 코사인 유사도 계산\n",
    "    vocab_size = len(id_to_word)\n",
    "    similarity =np.zeros(vocab_size)\n",
    "    for i in range(vocab_size) :\n",
    "        similarity[i] = cos_similarity(word_matrix[i], query_vec)\n",
    "\n",
    "    # 3. 코사인 유사도를 기준으로 내림차순으로 출력\n",
    "    count = 0\n",
    "    for i in (-1 * similarity).argsort() :\n",
    "        if id_to_word[i] == query :\n",
    "            continue\n",
    "        print(f\"{id_to_word[i]}: {similarity[i]}\")\n",
    "\n",
    "        count += 1\n",
    "        if (count >= top) :\n",
    "            return "
   ]
  },
  {
   "cell_type": "code",
   "execution_count": 16,
   "id": "d5e27c30-5242-4219-83e9-0df0316785b0",
   "metadata": {},
   "outputs": [
    {
     "data": {
      "text/plain": [
       "array([1, 2, 0], dtype=int64)"
      ]
     },
     "execution_count": 16,
     "metadata": {},
     "output_type": "execute_result"
    }
   ],
   "source": [
    "aa = np.array([100, -20, 2])\n",
    "aa.argsort()"
   ]
  },
  {
   "cell_type": "code",
   "execution_count": 17,
   "id": "df9456ee-ae43-4bdd-ad11-4f5a8c366220",
   "metadata": {},
   "outputs": [
    {
     "data": {
      "text/plain": [
       "array([0, 2, 1], dtype=int64)"
      ]
     },
     "execution_count": 17,
     "metadata": {},
     "output_type": "execute_result"
    }
   ],
   "source": [
    "(-aa).argsort()"
   ]
  },
  {
   "cell_type": "code",
   "execution_count": 18,
   "id": "02da47fd-4374-4d83-a07c-146103330c25",
   "metadata": {},
   "outputs": [
    {
     "name": "stdout",
     "output_type": "stream",
     "text": [
      "\n",
      "[query] you\n",
      "goodbye: 0.7071067758832467\n",
      "i: 0.7071067758832467\n",
      "hello: 0.7071067758832467\n",
      "say: 0.0\n",
      "and: 0.0\n"
     ]
    }
   ],
   "source": [
    "# 유사 단어 랭킹 표시 예시\n",
    "text = 'You say goodbye and I say hello.'\n",
    "corpus, word_to_id, id_to_word = preprocess(text)\n",
    "vocab_size = len(word_to_id)\n",
    "C = create_co_matrix(corpus, vocab_size)\n",
    "\n",
    "most_similar(\"you\", word_to_id, id_to_word, C)"
   ]
  },
  {
   "cell_type": "code",
   "execution_count": null,
   "id": "dac76a40-ad4d-4965-871a-5d5e3c29709e",
   "metadata": {},
   "outputs": [],
   "source": []
  },
  {
   "cell_type": "markdown",
   "id": "cd0a886a-74a9-42bf-9260-cdcf792da07c",
   "metadata": {},
   "source": [
    "## 2.4.1 상호정보량 "
   ]
  },
  {
   "cell_type": "markdown",
   "id": "d2831c0e-f8e3-471d-bf85-6527d751d087",
   "metadata": {},
   "source": [
    "#### 단어의 단독 표현 횟수도 고려하여 분산 표현하여 \"상호 정보량\"을 계량화한다.\n",
    "#### 문제점: 행렬 대부분의 원소는 0, 벡터의 차원이 너무 큼, 노이즈에 약함.\n",
    "#### 해결책: 차원 감소"
   ]
  },
  {
   "cell_type": "code",
   "execution_count": 19,
   "id": "2fd8cd71-8da2-47c3-a2b6-782acc80755f",
   "metadata": {},
   "outputs": [],
   "source": [
    "# 양의 상호 정보량(PPMI) 구현\n",
    "# C는 동시발생 행렬, verbose는 진행상황 출력여부\n",
    "def ppmi(C, verbose = False, eps = 1e-8) :\n",
    "    M = np.zeros_like(C, dtype = np.float32) \n",
    "    N = np.sum(C)\n",
    "    S = np.sum(C, axis=0)\n",
    "    total = C.shape[0] * C.shape[1]\n",
    "    cnt = 0\n",
    "\n",
    "    for i in range(C.shape[0]) :\n",
    "        for j in range(C.shape[1]) :\n",
    "            pmi = np.log2((C[i,j] * N) / (S[i] * S[j]) + eps)\n",
    "            M[i, j] = max(0, pmi)\n",
    "    \n",
    "            if verbose :\n",
    "                cnt += 1\n",
    "                if cnt % (total // 100) == 0 :\n",
    "                    print(f\"{100*cnt//total}% 완료\")\n",
    "\n",
    "    return M"
   ]
  },
  {
   "cell_type": "code",
   "execution_count": null,
   "id": "199763ec-8341-464c-b853-1faaaeb3b5a3",
   "metadata": {},
   "outputs": [],
   "source": []
  },
  {
   "cell_type": "code",
   "execution_count": 20,
   "id": "6c2496f7-0f8a-4c45-a741-d1c5e0a26db9",
   "metadata": {},
   "outputs": [
    {
     "name": "stdout",
     "output_type": "stream",
     "text": [
      "동시발생 행렬\n",
      "[[0 1 0 0 0 0 0]\n",
      " [1 0 1 0 1 1 0]\n",
      " [0 1 0 1 0 0 0]\n",
      " [0 0 1 0 1 0 0]\n",
      " [0 1 0 1 0 0 0]\n",
      " [0 1 0 0 0 0 1]\n",
      " [0 0 0 0 0 1 0]]\n",
      "--------------------------------------------------\n",
      "PPMI\n",
      "[[0.    1.807 0.    0.    0.    0.    0.   ]\n",
      " [1.807 0.    0.807 0.    0.807 0.807 0.   ]\n",
      " [0.    0.807 0.    1.807 0.    0.    0.   ]\n",
      " [0.    0.    1.807 0.    1.807 0.    0.   ]\n",
      " [0.    0.807 0.    1.807 0.    0.    0.   ]\n",
      " [0.    0.807 0.    0.    0.    0.    2.807]\n",
      " [0.    0.    0.    0.    0.    2.807 0.   ]]\n"
     ]
    }
   ],
   "source": [
    "# 동시발생 행렬을 PPMI로 구현하기\n",
    "text = 'You say goodbye and I say hello.'\n",
    "corpus, word_to_id, id_to_word = preprocess(text)\n",
    "vocab_size = len(word_to_id)\n",
    "C = create_co_matrix(corpus, vocab_size)\n",
    "W = ppmi(C)\n",
    "\n",
    "np.set_printoptions(precision=3)\n",
    "print(\"동시발생 행렬\")\n",
    "print(C)\n",
    "print('-'*50)\n",
    "print(\"PPMI\")\n",
    "print(W)"
   ]
  },
  {
   "cell_type": "code",
   "execution_count": null,
   "id": "29cd00f3-a7f3-40c2-8ec6-b343c416754e",
   "metadata": {},
   "outputs": [],
   "source": []
  },
  {
   "cell_type": "markdown",
   "id": "667406e7-c445-4e54-afc5-3d6175550354",
   "metadata": {},
   "source": [
    "## 2.4.3 SVD에 의한 차원 감소"
   ]
  },
  {
   "cell_type": "code",
   "execution_count": 21,
   "id": "33f9d80a-b4fd-432d-8115-767ae4af5ba5",
   "metadata": {},
   "outputs": [
    {
     "name": "stdout",
     "output_type": "stream",
     "text": [
      "동시발생 행렬\n",
      "[0 1 0 0 0 0 0]\n",
      "------------------------------\n",
      "PPMI 행렬\n",
      "[0.    1.807 0.    0.    0.    0.    0.   ]\n",
      "------------------------------\n",
      "SVD\n",
      "[-3.409e-01 -1.110e-16 -3.886e-16 -1.205e-01  0.000e+00  9.323e-01\n",
      "  2.226e-16]\n"
     ]
    }
   ],
   "source": [
    "# 동시발생행렬을 PPMI행렬로 변환후 SVD적용해보기\n",
    "text = 'You say goodbye and I say hello.'\n",
    "corpus, word_to_id, id_to_word = preprocess(text)\n",
    "vocab_size = len(word_to_id)\n",
    "C = create_co_matrix(corpus, vocab_size)\n",
    "W = ppmi(C)\n",
    "\n",
    "# SVD\n",
    "U, S, V = np.linalg.svd(W)\n",
    "\n",
    "print(\"동시발생 행렬\")\n",
    "print(C[0])\n",
    "print(\"-\"*30)\n",
    "\n",
    "print(\"PPMI 행렬\")\n",
    "print(W[0])\n",
    "print(\"-\"*30)\n",
    "\n",
    "print(\"SVD\")\n",
    "print(U[0])"
   ]
  },
  {
   "cell_type": "code",
   "execution_count": 22,
   "id": "f60f209e-7080-4cf3-924e-c56e36bb0088",
   "metadata": {},
   "outputs": [
    {
     "name": "stdout",
     "output_type": "stream",
     "text": [
      "[-3.409e-01 -1.110e-16]\n"
     ]
    }
   ],
   "source": [
    "# 2차원 벡터로 줄이기\n",
    "print(U[0, :2])"
   ]
  },
  {
   "cell_type": "code",
   "execution_count": 23,
   "id": "26397b46-7c01-49b3-83f1-29f9607a0f5a",
   "metadata": {},
   "outputs": [
    {
     "data": {
      "image/png": "[encoded data removed]",
      "text/plain": [
       "<Figure size 640x480 with 1 Axes>"
      ]
     },
     "metadata": {},
     "output_type": "display_data"
    }
   ],
   "source": [
    "# 2차원 벡터로 표현한 후 그래프로 그리기\n",
    "\n",
    "for word, word_id in word_to_id.items() :\n",
    "    plt.annotate(word, (U[word_id, 0], U[word_id,1]))\n",
    "plt.scatter(U[:,0], U[:,1], alpha=0.5)\n",
    "plt.show()"
   ]
  },
  {
   "cell_type": "code",
   "execution_count": null,
   "id": "2113d319-d326-4451-95e3-1e3bf50bd0b3",
   "metadata": {},
   "outputs": [],
   "source": []
  },
  {
   "cell_type": "markdown",
   "id": "0eb491b1-41fc-42c5-a1ad-945093693b0a",
   "metadata": {},
   "source": [
    "## 2.4.4 PTB 데이터 셋"
   ]
  },
  {
   "cell_type": "markdown",
   "id": "aaeadbbd-19df-43b8-b1f6-1c13d53b1df7",
   "metadata": {},
   "source": [
    "### 각 문장을 연결한 \"하나의 큰 시계열 데이터\"로 간주 가능"
   ]
  },
  {
   "cell_type": "code",
   "execution_count": 24,
   "id": "3340af98-2011-4cd4-b625-3ccfc46883ef",
   "metadata": {},
   "outputs": [],
   "source": [
    "from dataset import ptb"
   ]
  },
  {
   "cell_type": "code",
   "execution_count": 25,
   "id": "df74d0b9-8767-488f-8368-41659a3cbf5a",
   "metadata": {},
   "outputs": [],
   "source": [
    "corpus, word_to_id, id_to_word = ptb.load_data('train')"
   ]
  },
  {
   "cell_type": "code",
   "execution_count": 26,
   "id": "72a1808a-325d-4368-94b8-b8c51fe30cc1",
   "metadata": {},
   "outputs": [
    {
     "name": "stdout",
     "output_type": "stream",
     "text": [
      "말뭉치 크기:  929589\n",
      "corpus[:30]:  [ 0  1  2  3  4  5  6  7  8  9 10 11 12 13 14 15 16 17 18 19 20 21 22 23\n",
      " 24 25 26 27 28 29]\n",
      "\n",
      "id_to_word[0]:  aer\n",
      "id_to_word[1]:  banknote\n",
      "id_to_word[2]:  berlitz\n",
      "\n",
      "word_to_id[\"car\"]:  3856\n",
      "word_to_id[\"i\"]:  1040\n",
      "word_to_id[\"luck\"]:  3863\n"
     ]
    }
   ],
   "source": [
    "print('말뭉치 크기: ', len(corpus))\n",
    "print('corpus[:30]: ', corpus[:30])\n",
    "print()\n",
    "print('id_to_word[0]: ', id_to_word[0])\n",
    "print('id_to_word[1]: ', id_to_word[1])\n",
    "print('id_to_word[2]: ', id_to_word[2])\n",
    "print()\n",
    "print('word_to_id[\"car\"]: ', word_to_id[\"car\"])\n",
    "print('word_to_id[\"i\"]: ', word_to_id[\"i\"])\n",
    "print('word_to_id[\"luck\"]: ', word_to_id[\"luck\"])"
   ]
  },
  {
   "cell_type": "code",
   "execution_count": null,
   "id": "98ddb9dd-1a32-4405-9c3b-1390b2e45b2a",
   "metadata": {},
   "outputs": [],
   "source": []
  },
  {
   "cell_type": "markdown",
   "id": "609a81ff-0243-4aed-a47f-30fee327eed8",
   "metadata": {},
   "source": [
    "## 2.4.5 PTB 데이터셋 평가"
   ]
  },
  {
   "cell_type": "code",
   "execution_count": 27,
   "id": "f234a157-ab4b-4c60-98a9-2cc68d6f39ca",
   "metadata": {},
   "outputs": [],
   "source": [
    "from sklearn.utils.extmath import randomized_svd"
   ]
  },
  {
   "cell_type": "code",
   "execution_count": 31,
   "id": "6cec2c6f-9472-46bd-88e9-0da48a6a9030",
   "metadata": {},
   "outputs": [
    {
     "name": "stdout",
     "output_type": "stream",
     "text": [
      "동시발생 수 계산 ...\n",
      "PPMI 계산 ...\n"
     ]
    },
    {
     "name": "stderr",
     "output_type": "stream",
     "text": [
      "C:\\Users\\Public\\Documents\\ESTsoft\\CreatorTemp\\ipykernel_26720\\2717765349.py:12: RuntimeWarning: overflow encountered in scalar multiply\n",
      "  pmi = np.log2((C[i,j] * N) / (S[i] * S[j]) + eps)\n",
      "C:\\Users\\Public\\Documents\\ESTsoft\\CreatorTemp\\ipykernel_26720\\2717765349.py:12: RuntimeWarning: invalid value encountered in log2\n",
      "  pmi = np.log2((C[i,j] * N) / (S[i] * S[j]) + eps)\n"
     ]
    },
    {
     "name": "stdout",
     "output_type": "stream",
     "text": [
      "1% 완료\n",
      "2% 완료\n",
      "3% 완료\n",
      "4% 완료\n",
      "5% 완료\n",
      "6% 완료\n",
      "7% 완료\n",
      "8% 완료\n",
      "9% 완료\n",
      "10% 완료\n",
      "11% 완료\n",
      "12% 완료\n",
      "13% 완료\n",
      "14% 완료\n",
      "15% 완료\n",
      "16% 완료\n",
      "17% 완료\n",
      "18% 완료\n",
      "19% 완료\n",
      "20% 완료\n",
      "21% 완료\n",
      "22% 완료\n",
      "23% 완료\n",
      "24% 완료\n",
      "25% 완료\n",
      "26% 완료\n",
      "27% 완료\n",
      "28% 완료\n",
      "29% 완료\n",
      "30% 완료\n",
      "31% 완료\n",
      "32% 완료\n",
      "33% 완료\n",
      "34% 완료\n",
      "35% 완료\n",
      "36% 완료\n",
      "37% 완료\n",
      "38% 완료\n",
      "39% 완료\n",
      "40% 완료\n",
      "41% 완료\n",
      "42% 완료\n",
      "43% 완료\n",
      "44% 완료\n",
      "45% 완료\n",
      "46% 완료\n",
      "47% 완료\n",
      "48% 완료\n",
      "49% 완료\n",
      "50% 완료\n",
      "51% 완료\n",
      "52% 완료\n",
      "53% 완료\n",
      "54% 완료\n",
      "55% 완료\n",
      "56% 완료\n",
      "57% 완료\n",
      "58% 완료\n",
      "59% 완료\n",
      "60% 완료\n",
      "61% 완료\n",
      "62% 완료\n",
      "63% 완료\n",
      "64% 완료\n",
      "65% 완료\n",
      "66% 완료\n",
      "67% 완료\n",
      "68% 완료\n",
      "69% 완료\n",
      "70% 완료\n",
      "71% 완료\n",
      "72% 완료\n",
      "73% 완료\n",
      "74% 완료\n",
      "75% 완료\n",
      "76% 완료\n",
      "77% 완료\n",
      "78% 완료\n",
      "79% 완료\n",
      "80% 완료\n",
      "81% 완료\n",
      "82% 완료\n",
      "83% 완료\n",
      "84% 완료\n",
      "85% 완료\n",
      "86% 완료\n",
      "87% 완료\n",
      "88% 완료\n",
      "89% 완료\n",
      "90% 완료\n",
      "91% 완료\n",
      "92% 완료\n",
      "93% 완료\n",
      "94% 완료\n",
      "95% 완료\n",
      "96% 완료\n",
      "97% 완료\n",
      "98% 완료\n",
      "99% 완료\n",
      "100% 완료\n",
      "SVD 계산 ...\n",
      "\n",
      "[query] you\n",
      "i: 0.738332986831665\n",
      "we: 0.6491184830665588\n",
      "do: 0.5535686016082764\n",
      "anybody: 0.5304591655731201\n",
      "'ll: 0.4878748059272766\n",
      "\n",
      "[query] love\n",
      "ask: 0.5509049892425537\n",
      "want: 0.46994706988334656\n",
      "tune: 0.4666041433811188\n",
      "trusted: 0.44466346502304077\n",
      "happens: 0.43366801738739014\n",
      "\n",
      "[query] hate\n",
      "homeless: 0.6034234166145325\n",
      "repeat: 0.5540679097175598\n",
      "wish: 0.520897388458252\n",
      "tampa: 0.5053814649581909\n",
      "manipulate: 0.49973466992378235\n",
      "samsung(을)를 찾을 수 없습니다.\n"
     ]
    }
   ],
   "source": [
    "window_size = 2\n",
    "wordvec_size = 100\n",
    "\n",
    "corpus, word_id, id_to_word = ptb.load_data('train')\n",
    "vocab_size = len(word_to_id)\n",
    "print(\"동시발생 수 계산 ...\")\n",
    "C = create_co_matrix(corpus, vocab_size, window_size)\n",
    "print(\"PPMI 계산 ...\")\n",
    "W = ppmi(C, verbose = True)\n",
    "\n",
    "print('SVD 계산 ...')\n",
    "U, S, V = randomized_svd(W, n_components=wordvec_size, n_iter = 5, random_state=None)\n",
    "\n",
    "word_vecs = U[:, :wordvec_size]\n",
    "\n",
    "querys = ['you', 'love', 'hate', 'samsung']\n",
    "for query in querys :\n",
    "    most_similar(query, word_to_id, id_to_word, word_vecs, top = 5)\n"
   ]
  },
  {
   "cell_type": "code",
   "execution_count": null,
   "id": "ee13acc5-3394-4e69-996f-a439b5a69999",
   "metadata": {},
   "outputs": [],
   "source": []
  },
  {
   "cell_type": "code",
   "execution_count": null,
   "id": "b2969459-8888-4530-ad94-62a2ef39d3e7",
   "metadata": {},
   "outputs": [],
   "source": []
  },
  {
   "cell_type": "code",
   "execution_count": null,
   "id": "874b79b8-b485-4f84-9a5c-5a2d47200a35",
   "metadata": {},
   "outputs": [],
   "source": []
  },
  {
   "cell_type": "code",
   "execution_count": null,
   "id": "d10731a0-a4c7-4972-85a8-2f49c6817195",
   "metadata": {},
   "outputs": [],
   "source": []
  },
  {
   "cell_type": "code",
   "execution_count": null,
   "id": "a5bc52ef-0b58-423c-b2dc-98d20077628d",
   "metadata": {},
   "outputs": [],
   "source": []
  },
  {
   "cell_type": "code",
   "execution_count": null,
   "id": "566886cd-c1e8-417f-b3d5-f58c5a78ed0c",
   "metadata": {},
   "outputs": [],
   "source": []
  },
  {
   "cell_type": "code",
   "execution_count": null,
   "id": "33075440-bb11-458d-81c4-bbda1fff4c48",
   "metadata": {},
   "outputs": [],
   "source": []
  },
  {
   "cell_type": "code",
   "execution_count": null,
   "id": "949736b0-fff4-4636-8e48-ebf07ad6fc24",
   "metadata": {},
   "outputs": [],
   "source": []
  },
  {
   "cell_type": "code",
   "execution_count": null,
   "id": "5e6203ee-1f99-4d65-bdb9-266e3df6882a",
   "metadata": {},
   "outputs": [],
   "source": []
  }
 ],
 "metadata": {
  "kernelspec": {
   "display_name": "Python 3 (ipykernel)",
   "language": "python",
   "name": "python3"
  },
  "language_info": {
   "codemirror_mode": {
    "name": "ipython",
    "version": 3
   },
   "file_extension": ".py",
   "mimetype": "text/x-python",
   "name": "python",
   "nbconvert_exporter": "python",
   "pygments_lexer": "ipython3",
   "version": "3.9.18"
  },
  "widgets": {
   "application/vnd.jupyter.widget-state+json": {
    "state": {},
    "version_major": 2,
    "version_minor": 0
   }
  }
 },
 "nbformat": 4,
 "nbformat_minor": 5
}
