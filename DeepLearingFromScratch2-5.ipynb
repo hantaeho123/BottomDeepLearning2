{
 "cells": [
  {
   "cell_type": "markdown",
   "id": "41e3a588-4767-4ec7-ae34-96550f29fe33",
   "metadata": {},
   "source": [
    "# 5. 순환신경망(RNN)"
   ]
  },
  {
   "cell_type": "code",
   "execution_count": null,
   "id": "a11c1746-1100-4c38-8916-2d2721999282",
   "metadata": {},
   "outputs": [],
   "source": []
  }
 ],
 "metadata": {
  "kernelspec": {
   "display_name": "Python 3 (ipykernel)",
   "language": "python",
   "name": "python3"
  },
  "language_info": {
   "codemirror_mode": {
    "name": "ipython",
    "version": 3
   },
   "file_extension": ".py",
   "mimetype": "text/x-python",
   "name": "python",
   "nbconvert_exporter": "python",
   "pygments_lexer": "ipython3",
   "version": "3.9.18"
  },
  "widgets": {
   "application/vnd.jupyter.widget-state+json": {
    "state": {},
    "version_major": 2,
    "version_minor": 0
   }
  }
 },
 "nbformat": 4,
 "nbformat_minor": 5
}
