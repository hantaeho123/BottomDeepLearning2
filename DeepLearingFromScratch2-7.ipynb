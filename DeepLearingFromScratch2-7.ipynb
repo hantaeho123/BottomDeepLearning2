{
 "cells": [
  {
   "cell_type": "markdown",
   "id": "001c22ff-ba71-49ab-b244-c9e915d6e08d",
   "metadata": {},
   "source": [
    "# 7. RNN을 사용한 문장 생성"
   ]
  },
  {
   "cell_type": "code",
   "execution_count": null,
   "id": "4a374841-9b75-4cda-a07f-80f9124825dc",
   "metadata": {},
   "outputs": [],
   "source": []
  }
 ],
 "metadata": {
  "kernelspec": {
   "display_name": "Python 3 (ipykernel)",
   "language": "python",
   "name": "python3"
  },
  "language_info": {
   "codemirror_mode": {
    "name": "ipython",
    "version": 3
   },
   "file_extension": ".py",
   "mimetype": "text/x-python",
   "name": "python",
   "nbconvert_exporter": "python",
   "pygments_lexer": "ipython3",
   "version": "3.9.18"
  },
  "widgets": {
   "application/vnd.jupyter.widget-state+json": {
    "state": {},
    "version_major": 2,
    "version_minor": 0
   }
  }
 },
 "nbformat": 4,
 "nbformat_minor": 5
}
